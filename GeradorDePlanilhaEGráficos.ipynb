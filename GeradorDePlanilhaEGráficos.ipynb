{
 "cells": [
  {
   "cell_type": "code",
   "execution_count": 2,
   "metadata": {},
   "outputs": [
    {
     "data": {
      "text/html": [
       "<div>\n",
       "<style scoped>\n",
       "    .dataframe tbody tr th:only-of-type {\n",
       "        vertical-align: middle;\n",
       "    }\n",
       "\n",
       "    .dataframe tbody tr th {\n",
       "        vertical-align: top;\n",
       "    }\n",
       "\n",
       "    .dataframe thead th {\n",
       "        text-align: right;\n",
       "    }\n",
       "</style>\n",
       "<table border=\"1\" class=\"dataframe\">\n",
       "  <thead>\n",
       "    <tr style=\"text-align: right;\">\n",
       "      <th></th>\n",
       "      <th>Número de matrícula</th>\n",
       "      <th>Aluno</th>\n",
       "      <th>Prova 1</th>\n",
       "      <th>Prova 2</th>\n",
       "      <th>Prova 3</th>\n",
       "    </tr>\n",
       "  </thead>\n",
       "  <tbody>\n",
       "    <tr>\n",
       "      <th>0</th>\n",
       "      <td>1</td>\n",
       "      <td>Carlos Moraes</td>\n",
       "      <td>9.90</td>\n",
       "      <td>5.46</td>\n",
       "      <td>4.98</td>\n",
       "    </tr>\n",
       "    <tr>\n",
       "      <th>1</th>\n",
       "      <td>2</td>\n",
       "      <td>Kleber Ferreira</td>\n",
       "      <td>2.17</td>\n",
       "      <td>7.87</td>\n",
       "      <td>8.75</td>\n",
       "    </tr>\n",
       "    <tr>\n",
       "      <th>2</th>\n",
       "      <td>3</td>\n",
       "      <td>Eduardo Castro</td>\n",
       "      <td>6.63</td>\n",
       "      <td>6.42</td>\n",
       "      <td>6.19</td>\n",
       "    </tr>\n",
       "    <tr>\n",
       "      <th>3</th>\n",
       "      <td>4</td>\n",
       "      <td>Ana Rocha</td>\n",
       "      <td>2.63</td>\n",
       "      <td>7.44</td>\n",
       "      <td>0.77</td>\n",
       "    </tr>\n",
       "    <tr>\n",
       "      <th>4</th>\n",
       "      <td>5</td>\n",
       "      <td>Ricardo Dias</td>\n",
       "      <td>0.21</td>\n",
       "      <td>2.18</td>\n",
       "      <td>6.55</td>\n",
       "    </tr>\n",
       "    <tr>\n",
       "      <th>...</th>\n",
       "      <td>...</td>\n",
       "      <td>...</td>\n",
       "      <td>...</td>\n",
       "      <td>...</td>\n",
       "      <td>...</td>\n",
       "    </tr>\n",
       "    <tr>\n",
       "      <th>9995</th>\n",
       "      <td>9996</td>\n",
       "      <td>Carlos Rocha</td>\n",
       "      <td>3.43</td>\n",
       "      <td>4.00</td>\n",
       "      <td>7.98</td>\n",
       "    </tr>\n",
       "    <tr>\n",
       "      <th>9996</th>\n",
       "      <td>9997</td>\n",
       "      <td>Bruno Santos</td>\n",
       "      <td>2.46</td>\n",
       "      <td>0.89</td>\n",
       "      <td>9.38</td>\n",
       "    </tr>\n",
       "    <tr>\n",
       "      <th>9997</th>\n",
       "      <td>9998</td>\n",
       "      <td>Marcos Pereira</td>\n",
       "      <td>6.09</td>\n",
       "      <td>4.04</td>\n",
       "      <td>1.84</td>\n",
       "    </tr>\n",
       "    <tr>\n",
       "      <th>9998</th>\n",
       "      <td>9999</td>\n",
       "      <td>Nathalia Barbosa</td>\n",
       "      <td>7.20</td>\n",
       "      <td>3.73</td>\n",
       "      <td>1.94</td>\n",
       "    </tr>\n",
       "    <tr>\n",
       "      <th>9999</th>\n",
       "      <td>10000</td>\n",
       "      <td>Nathalia Costa</td>\n",
       "      <td>2.92</td>\n",
       "      <td>5.09</td>\n",
       "      <td>8.72</td>\n",
       "    </tr>\n",
       "  </tbody>\n",
       "</table>\n",
       "<p>10000 rows × 5 columns</p>\n",
       "</div>"
      ],
      "text/plain": [
       "      Número de matrícula             Aluno  Prova 1  Prova 2  Prova 3\n",
       "0                       1     Carlos Moraes     9.90     5.46     4.98\n",
       "1                       2   Kleber Ferreira     2.17     7.87     8.75\n",
       "2                       3    Eduardo Castro     6.63     6.42     6.19\n",
       "3                       4         Ana Rocha     2.63     7.44     0.77\n",
       "4                       5      Ricardo Dias     0.21     2.18     6.55\n",
       "...                   ...               ...      ...      ...      ...\n",
       "9995                 9996      Carlos Rocha     3.43     4.00     7.98\n",
       "9996                 9997      Bruno Santos     2.46     0.89     9.38\n",
       "9997                 9998    Marcos Pereira     6.09     4.04     1.84\n",
       "9998                 9999  Nathalia Barbosa     7.20     3.73     1.94\n",
       "9999                10000    Nathalia Costa     2.92     5.09     8.72\n",
       "\n",
       "[10000 rows x 5 columns]"
      ]
     },
     "execution_count": 2,
     "metadata": {},
     "output_type": "execute_result"
    }
   ],
   "source": [
    "import pandas as pd\n",
    "import matplotlib.pyplot as plt\n",
    "\n",
    "input_file = 'notas_alunos.xlsx' \n",
    "output_file = 'resultado_final.xlsx'\n",
    "df = pd.read_excel(input_file)\n",
    "\n",
    "df"
   ]
  },
  {
   "cell_type": "code",
   "execution_count": 3,
   "metadata": {},
   "outputs": [],
   "source": [
    "# Calcula a média final\n",
    "df['Média Final'] = (df['Prova 1'] + 2 * df['Prova 2'] + 3 * df['Prova 3']) / 6"
   ]
  },
  {
   "cell_type": "code",
   "execution_count": 4,
   "metadata": {},
   "outputs": [
    {
     "name": "stdout",
     "output_type": "stream",
     "text": [
      "Processamento concluído. Verifique o arquivo: resultado_final.xlsx\n"
     ]
    }
   ],
   "source": [
    "# Determina o status de aprovação\n",
    "df['Status'] = df['Média Final'].apply(lambda x: 'Aprovado' if x >= 5 else 'Reprovado')\n",
    "\n",
    "# Escreve a planilha de saída\n",
    "df.to_excel(output_file, index=False)\n",
    "\n",
    "print(\"Processamento concluído. Verifique o arquivo:\", output_file)\n"
   ]
  },
  {
   "cell_type": "code",
   "execution_count": 23,
   "metadata": {},
   "outputs": [
    {
     "data": {
      "text/html": [
       "<div>\n",
       "<style scoped>\n",
       "    .dataframe tbody tr th:only-of-type {\n",
       "        vertical-align: middle;\n",
       "    }\n",
       "\n",
       "    .dataframe tbody tr th {\n",
       "        vertical-align: top;\n",
       "    }\n",
       "\n",
       "    .dataframe thead th {\n",
       "        text-align: right;\n",
       "    }\n",
       "</style>\n",
       "<table border=\"1\" class=\"dataframe\">\n",
       "  <thead>\n",
       "    <tr style=\"text-align: right;\">\n",
       "      <th></th>\n",
       "      <th>Número de matrícula</th>\n",
       "      <th>Prova 1</th>\n",
       "      <th>Prova 2</th>\n",
       "      <th>Prova 3</th>\n",
       "      <th>Média Final</th>\n",
       "    </tr>\n",
       "  </thead>\n",
       "  <tbody>\n",
       "    <tr>\n",
       "      <th>count</th>\n",
       "      <td>10000.00000</td>\n",
       "      <td>10000.000000</td>\n",
       "      <td>10000.000000</td>\n",
       "      <td>10000.000000</td>\n",
       "      <td>10000.000000</td>\n",
       "    </tr>\n",
       "    <tr>\n",
       "      <th>mean</th>\n",
       "      <td>5000.50000</td>\n",
       "      <td>4.962617</td>\n",
       "      <td>4.955538</td>\n",
       "      <td>5.007030</td>\n",
       "      <td>4.982464</td>\n",
       "    </tr>\n",
       "    <tr>\n",
       "      <th>std</th>\n",
       "      <td>2886.89568</td>\n",
       "      <td>2.896983</td>\n",
       "      <td>2.913208</td>\n",
       "      <td>2.890792</td>\n",
       "      <td>1.809762</td>\n",
       "    </tr>\n",
       "    <tr>\n",
       "      <th>min</th>\n",
       "      <td>1.00000</td>\n",
       "      <td>0.000000</td>\n",
       "      <td>0.000000</td>\n",
       "      <td>0.000000</td>\n",
       "      <td>0.225000</td>\n",
       "    </tr>\n",
       "    <tr>\n",
       "      <th>25%</th>\n",
       "      <td>2500.75000</td>\n",
       "      <td>2.460000</td>\n",
       "      <td>2.430000</td>\n",
       "      <td>2.500000</td>\n",
       "      <td>3.658333</td>\n",
       "    </tr>\n",
       "    <tr>\n",
       "      <th>50%</th>\n",
       "      <td>5000.50000</td>\n",
       "      <td>4.930000</td>\n",
       "      <td>4.930000</td>\n",
       "      <td>5.070000</td>\n",
       "      <td>5.000000</td>\n",
       "    </tr>\n",
       "    <tr>\n",
       "      <th>75%</th>\n",
       "      <td>7500.25000</td>\n",
       "      <td>7.490000</td>\n",
       "      <td>7.500000</td>\n",
       "      <td>7.510000</td>\n",
       "      <td>6.296667</td>\n",
       "    </tr>\n",
       "    <tr>\n",
       "      <th>max</th>\n",
       "      <td>10000.00000</td>\n",
       "      <td>10.000000</td>\n",
       "      <td>10.000000</td>\n",
       "      <td>10.000000</td>\n",
       "      <td>9.730000</td>\n",
       "    </tr>\n",
       "  </tbody>\n",
       "</table>\n",
       "</div>"
      ],
      "text/plain": [
       "       Número de matrícula       Prova 1       Prova 2       Prova 3  \\\n",
       "count          10000.00000  10000.000000  10000.000000  10000.000000   \n",
       "mean            5000.50000      4.962617      4.955538      5.007030   \n",
       "std             2886.89568      2.896983      2.913208      2.890792   \n",
       "min                1.00000      0.000000      0.000000      0.000000   \n",
       "25%             2500.75000      2.460000      2.430000      2.500000   \n",
       "50%             5000.50000      4.930000      4.930000      5.070000   \n",
       "75%             7500.25000      7.490000      7.500000      7.510000   \n",
       "max            10000.00000     10.000000     10.000000     10.000000   \n",
       "\n",
       "        Média Final  \n",
       "count  10000.000000  \n",
       "mean       4.982464  \n",
       "std        1.809762  \n",
       "min        0.225000  \n",
       "25%        3.658333  \n",
       "50%        5.000000  \n",
       "75%        6.296667  \n",
       "max        9.730000  "
      ]
     },
     "execution_count": 23,
     "metadata": {},
     "output_type": "execute_result"
    }
   ],
   "source": [
    "#Contém informações sobre o nosso DataFrame, contendo a média, mediana, os quartis, o mínimo e a máxima\n",
    "df.describe()"
   ]
  },
  {
   "cell_type": "code",
   "execution_count": 24,
   "metadata": {},
   "outputs": [
    {
     "data": {
      "text/plain": [
       "Número de matrícula               2722\n",
       "Aluno                  Marcos Carvalho\n",
       "Prova 1                            9.9\n",
       "Prova 2                            9.3\n",
       "Prova 3                           9.96\n",
       "Média Final                       9.73\n",
       "Status                        Aprovado\n",
       "Name: 2721, dtype: object"
      ]
     },
     "execution_count": 24,
     "metadata": {},
     "output_type": "execute_result"
    }
   ],
   "source": [
    "#Este código irá gerar o melhor aluno através do DataFrame\n",
    "\n",
    "melhor_aluno_index = df['Média Final'].idxmax()\n",
    "melhor_aluno = df.loc[melhor_aluno_index]\n",
    "\n",
    "melhor_aluno\n"
   ]
  },
  {
   "cell_type": "code",
   "execution_count": 44,
   "metadata": {},
   "outputs": [
    {
     "data": {
      "text/plain": [
       "Número de matrícula             1167\n",
       "Aluno                  Tiago Ribeiro\n",
       "Prova 1                         0.84\n",
       "Prova 2                         0.09\n",
       "Prova 3                         0.11\n",
       "Média Final                    0.225\n",
       "Status                     Reprovado\n",
       "Name: 1166, dtype: object"
      ]
     },
     "execution_count": 44,
     "metadata": {},
     "output_type": "execute_result"
    }
   ],
   "source": [
    "#Este código irá gerar o pior aluno através do DataFrame\n",
    "\n",
    "pior_aluno_index = df['Média Final'].idxmin()\n",
    "pior_aluno = df.loc[pior_aluno_index]\n",
    "\n",
    "pior_aluno"
   ]
  },
  {
   "cell_type": "code",
   "execution_count": 29,
   "metadata": {},
   "outputs": [
    {
     "data": {
      "text/plain": [
       "4.982463833333333"
      ]
     },
     "execution_count": 29,
     "metadata": {},
     "output_type": "execute_result"
    }
   ],
   "source": [
    "#Este código irá gerar a média geral entre todos os alunos\n",
    "\n",
    "media_geral = df['Média Final'].mean()\n",
    "\n",
    "media_geral"
   ]
  },
  {
   "cell_type": "code",
   "execution_count": 34,
   "metadata": {},
   "outputs": [],
   "source": [
    "#Serve para converter novamente os valores para númerico para evitar erro no código\n",
    "\n",
    "df['Prova 1'] = pd.to_numeric(df['Prova 1'], errors='coerce')\n",
    "df['Prova 2'] = pd.to_numeric(df['Prova 2'], errors='coerce')\n",
    "df['Prova 3'] = pd.to_numeric(df['Prova 3'], errors='coerce')"
   ]
  },
  {
   "cell_type": "code",
   "execution_count": 35,
   "metadata": {},
   "outputs": [],
   "source": [
    "maior_media = df['Média Final'].max()\n",
    "menor_media = df['Média Final'].min()\n",
    "media_geral = df['Média Final'].mean()"
   ]
  },
  {
   "cell_type": "code",
   "execution_count": 38,
   "metadata": {},
   "outputs": [
    {
     "data": {
      "image/png": "[encoded data removed]",
      "text/plain": [
       "<Figure size 800x500 with 1 Axes>"
      ]
     },
     "metadata": {},
     "output_type": "display_data"
    }
   ],
   "source": [
    "#Gráfico comparando a média dos alunos\n",
    "\n",
    "medias = {\n",
    "    'Maior Média': maior_media,\n",
    "    'Menor Média': menor_media,\n",
    "    'Média Geral': media_geral\n",
    "}\n",
    "\n",
    "plt.figure(figsize=(8, 5))\n",
    "plt.bar(medias.keys(), medias.values(), color=['green', 'red', 'blue'])\n",
    "plt.ylabel('Média')\n",
    "plt.title('Comparação de Médias dos Alunos')\n",
    "plt.tight_layout()"
   ]
  },
  {
   "cell_type": "code",
   "execution_count": 41,
   "metadata": {},
   "outputs": [
    {
     "data": {
      "image/png": "[encoded data removed]",
      "text/plain": [
       "<Figure size 800x500 with 1 Axes>"
      ]
     },
     "metadata": {},
     "output_type": "display_data"
    }
   ],
   "source": [
    "#Um gráfico do tipo Boxplot para determinar se está tendo algum Outlier e a representação dos Quartis\n",
    "\n",
    "plt.figure(figsize=(8, 5))\n",
    "plt.boxplot(df['Média Final'].dropna(), vert=False)\n",
    "plt.xlabel('Média Final')\n",
    "plt.title('Boxplot das Médias Finais')\n",
    "plt.tight_layout()\n",
    "plt.show()"
   ]
  }
 ],
 "metadata": {
  "kernelspec": {
   "display_name": "Python 3",
   "language": "python",
   "name": "python3"
  },
  "language_info": {
   "codemirror_mode": {
    "name": "ipython",
    "version": 3
   },
   "file_extension": ".py",
   "mimetype": "text/x-python",
   "name": "python",
   "nbconvert_exporter": "python",
   "pygments_lexer": "ipython3",
   "version": "3.11.5"
  }
 },
 "nbformat": 4,
 "nbformat_minor": 2
}
